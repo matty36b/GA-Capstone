{
 "cells": [
  {
   "cell_type": "code",
   "execution_count": 1,
   "metadata": {},
   "outputs": [],
   "source": [
    "# https://betterprogramming.pub/how-to-scrape-tweets-with-snscrape-90124ed006af\n",
    "# https://github.com/MartinBeckUT/TwitterScraper/blob/master/snscrape/python-wrapper/snscrape-python-wrapper.ipynb\n",
    "# https://github.com/igorbrigadir/twitter-advanced-search#supported-languages\n",
    "# https://github.com/scalto/snscrape-by-location/blob/main/snscrape_by_location_tutorial.ipynb\n",
    "# https://twitter.com/robots.txt"
   ]
  },
  {
   "cell_type": "code",
   "execution_count": 2,
   "metadata": {},
   "outputs": [],
   "source": [
    "# imports\n",
    "import os\n",
    "import pandas as pd\n",
    "pd.set_option('display.max_columns', None)"
   ]
  },
  {
   "cell_type": "code",
   "execution_count": 3,
   "metadata": {},
   "outputs": [],
   "source": [
    "# Imports\n",
    "import snscrape.modules.twitter as sntwitter"
   ]
  },
  {
   "cell_type": "markdown",
   "metadata": {},
   "source": [
    "## Scrape by username"
   ]
  },
  {
   "cell_type": "code",
   "execution_count": 4,
   "metadata": {},
   "outputs": [
    {
     "name": "stdout",
     "output_type": "stream",
     "text": [
      "1001\n"
     ]
    },
    {
     "data": {
      "text/html": [
       "<div>\n",
       "<style scoped>\n",
       "    .dataframe tbody tr th:only-of-type {\n",
       "        vertical-align: middle;\n",
       "    }\n",
       "\n",
       "    .dataframe tbody tr th {\n",
       "        vertical-align: top;\n",
       "    }\n",
       "\n",
       "    .dataframe thead th {\n",
       "        text-align: right;\n",
       "    }\n",
       "</style>\n",
       "<table border=\"1\" class=\"dataframe\">\n",
       "  <thead>\n",
       "    <tr style=\"text-align: right;\">\n",
       "      <th></th>\n",
       "      <th>Datetime</th>\n",
       "      <th>Tweet Id</th>\n",
       "      <th>Text</th>\n",
       "      <th>Username</th>\n",
       "    </tr>\n",
       "  </thead>\n",
       "  <tbody>\n",
       "    <tr>\n",
       "      <th>0</th>\n",
       "      <td>2020-12-30 19:49:23+00:00</td>\n",
       "      <td>1344370017295503360</td>\n",
       "      <td>@Erdayastronaut Might be a few lumps along the...</td>\n",
       "      <td>elonmusk</td>\n",
       "    </tr>\n",
       "    <tr>\n",
       "      <th>1</th>\n",
       "      <td>2020-12-30 18:31:31+00:00</td>\n",
       "      <td>1344350420735410177</td>\n",
       "      <td>@Erdayastronaut @flcnhvy @ErcXspace Production...</td>\n",
       "      <td>elonmusk</td>\n",
       "    </tr>\n",
       "    <tr>\n",
       "      <th>2</th>\n",
       "      <td>2020-12-30 18:18:12+00:00</td>\n",
       "      <td>1344347067230027777</td>\n",
       "      <td>@ICannot_Enough @AloysiusFekete @RationalEtien...</td>\n",
       "      <td>elonmusk</td>\n",
       "    </tr>\n",
       "    <tr>\n",
       "      <th>3</th>\n",
       "      <td>2020-12-30 18:15:27+00:00</td>\n",
       "      <td>1344346377715761153</td>\n",
       "      <td>@RexChapman Haha</td>\n",
       "      <td>elonmusk</td>\n",
       "    </tr>\n",
       "    <tr>\n",
       "      <th>4</th>\n",
       "      <td>2020-12-30 18:09:24+00:00</td>\n",
       "      <td>1344344855237992448</td>\n",
       "      <td>@Erdayastronaut @flcnhvy @ErcXspace SN9 will p...</td>\n",
       "      <td>elonmusk</td>\n",
       "    </tr>\n",
       "  </tbody>\n",
       "</table>\n",
       "</div>"
      ],
      "text/plain": [
       "                   Datetime             Tweet Id  \\\n",
       "0 2020-12-30 19:49:23+00:00  1344370017295503360   \n",
       "1 2020-12-30 18:31:31+00:00  1344350420735410177   \n",
       "2 2020-12-30 18:18:12+00:00  1344347067230027777   \n",
       "3 2020-12-30 18:15:27+00:00  1344346377715761153   \n",
       "4 2020-12-30 18:09:24+00:00  1344344855237992448   \n",
       "\n",
       "                                                Text  Username  \n",
       "0  @Erdayastronaut Might be a few lumps along the...  elonmusk  \n",
       "1  @Erdayastronaut @flcnhvy @ErcXspace Production...  elonmusk  \n",
       "2  @ICannot_Enough @AloysiusFekete @RationalEtien...  elonmusk  \n",
       "3                                   @RexChapman Haha  elonmusk  \n",
       "4  @Erdayastronaut @flcnhvy @ErcXspace SN9 will p...  elonmusk  "
      ]
     },
     "execution_count": 4,
     "metadata": {},
     "output_type": "execute_result"
    }
   ],
   "source": [
    "# Setting variables to be used below\n",
    "maxTweets = 1000\n",
    "\n",
    "# Creating list to append tweet data to\n",
    "tweets_list1 = []\n",
    "\n",
    "# Using TwitterSearchScraper to scrape data and append tweets to list\n",
    "for i,tweet in enumerate(sntwitter.TwitterSearchScraper('since:2020-01-01 until:2020-12-31 from:elonmusk').get_items()):\n",
    "    if i>maxTweets:\n",
    "        break\n",
    "    tweets_list1.append([tweet.date, tweet.id, tweet.content, tweet.user.username])\n",
    "\n",
    "# Creating a dataframe from the tweets list above\n",
    "tweets_df1 = pd.DataFrame(tweets_list1, columns=['Datetime', 'Tweet Id', 'Text', 'Username'])\n",
    "\n",
    "print(f'{tweets_df1.shape[0]}')\n",
    "# Display first 5 entries from dataframe\n",
    "tweets_df1.head()"
   ]
  },
  {
   "cell_type": "code",
   "execution_count": 5,
   "metadata": {},
   "outputs": [],
   "source": [
    "# Export dataframe into a CSV\n",
    "# tweets_df1.to_csv('CNN_george_floyd_tweets.csv', sep=',', index=False)"
   ]
  },
  {
   "cell_type": "code",
   "execution_count": null,
   "metadata": {},
   "outputs": [],
   "source": []
  }
 ],
 "metadata": {
  "kernelspec": {
   "display_name": "Python 3",
   "language": "python",
   "name": "python3"
  },
  "language_info": {
   "codemirror_mode": {
    "name": "ipython",
    "version": 3
   },
   "file_extension": ".py",
   "mimetype": "text/x-python",
   "name": "python",
   "nbconvert_exporter": "python",
   "pygments_lexer": "ipython3",
   "version": "3.8.5"
  }
 },
 "nbformat": 4,
 "nbformat_minor": 4
}
